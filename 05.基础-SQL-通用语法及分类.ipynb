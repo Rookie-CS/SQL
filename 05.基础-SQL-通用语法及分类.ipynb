{
 "cells": [
  {
   "cell_type": "markdown",
   "metadata": {},
   "source": [
    "# 基础-SQL-通用语法及分类 "
   ]
  },
  {
   "cell_type": "markdown",
   "metadata": {},
   "source": [
    "<pre>\n",
    "SQL分类:\n",
    "    DDL    数据定义语言, 用来定义数据库对象(数据库、表、字段)\n",
    "    DML    数据操作语言, 用来对数据库表中的数据进行增删改\n",
    "    DQL    数据库查询语言, 用于查询数据库中表的记录\n",
    "    DCL    数据库控制语言, 用来创建数据库用户、控制数据库的访问权限\n",
    "</pre>"
   ]
  }
 ],
 "metadata": {
  "kernelspec": {
   "display_name": "ai",
   "language": "python",
   "name": "python3"
  },
  "language_info": {
   "name": "python",
   "version": "3.11.9"
  }
 },
 "nbformat": 4,
 "nbformat_minor": 2
}
